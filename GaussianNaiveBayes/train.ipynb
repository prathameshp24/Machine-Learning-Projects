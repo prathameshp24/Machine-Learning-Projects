{
 "cells": [
  {
   "cell_type": "markdown",
   "metadata": {},
   "source": [
    "## GAussian Naive Bayes Classifier Implementation"
   ]
  },
  {
   "cell_type": "code",
   "execution_count": 2,
   "metadata": {},
   "outputs": [],
   "source": [
    "import numpy as np"
   ]
  },
  {
   "cell_type": "code",
   "execution_count": 3,
   "metadata": {},
   "outputs": [],
   "source": [
    "class GaussianNaiveBayes:\n",
    "    def fit(self, features: np.ndarray, labels: np.ndarray) -> None:\n",
    "        \n",
    "\n",
    "        self.labels = labels\n",
    "        self.unique_labels = np.unique(labels)\n",
    "\n",
    "        self.params = []\n",
    "        \n",
    "        for label in self.unique_labels:\n",
    "            label_features = features[self.labels == label]\n",
    "            self.params.append([(col.mean(), col.var()) for col in label_features.T])\n",
    "\n",
    "    def likelihood(self, data: float, mean: float, var: float) -> float:\n",
    "        \"\"\"Calculates the Gaussian likelihood of the data with the given mean and variance.\"\"\"\n",
    "\n",
    "        \n",
    "        eps = 1e-4\n",
    "\n",
    "        coeff = 1 / np.sqrt(2 * np.pi * var + eps)\n",
    "        exponent = np.exp(-((data - mean) ** 2 / (2 * var + eps)))\n",
    "\n",
    "        return coeff * exponent\n",
    "\n",
    "    def predict(self, features: np.ndarray) -> np.ndarray:\n",
    "        \"\"\"Performs inference using Bayes' Theorem:  P(A | B) = P(B | A) * P(A) / P(B).\"\"\"\n",
    "\n",
    "        num_samples, _ = features.shape\n",
    "\n",
    "        predictions = np.empty(num_samples)\n",
    "        for idx, feature in enumerate(features):\n",
    "            posteriors = []\n",
    "            for label_idx, label in enumerate(self.unique_labels):\n",
    "               \n",
    "                prior = np.log((self.labels == label).mean())\n",
    "\n",
    "              \n",
    "                pairs = zip(feature, self.params[label_idx])\n",
    "                likelihood = np.sum([np.log(self.likelihood(f, m, v)) for f, (m, v) in pairs])\n",
    "\n",
    "               \n",
    "                posteriors.append(prior + likelihood)\n",
    "\n",
    "            \n",
    "            predictions[idx] = self.unique_labels[np.argmax(posteriors)]\n",
    "\n",
    "        return predictions\n"
   ]
  },
  {
   "cell_type": "code",
   "execution_count": 4,
   "metadata": {},
   "outputs": [
    {
     "name": "stdout",
     "output_type": "stream",
     "text": [
      "Accuracy:  0.947\n",
      "Precision: 0.961\n",
      "Recall:    0.944\n",
      "F-score:   0.949\n",
      "\n",
      "Mislabeled points: 4/75\n"
     ]
    }
   ],
   "source": [
    "if __name__ == \"__main__\":\n",
    "    from sklearn.datasets import load_iris\n",
    "    from sklearn.metrics import accuracy_score, precision_recall_fscore_support\n",
    "    from sklearn.model_selection import train_test_split\n",
    "\n",
    "    features, labels = load_iris(return_X_y=True)\n",
    "    train_features, test_features, train_labels, test_labels = train_test_split(\n",
    "        features, labels, test_size=0.5, random_state=0\n",
    "    )\n",
    "\n",
    "    gnb = GaussianNaiveBayes()\n",
    "    gnb.fit(train_features, train_labels)\n",
    "    predictions = gnb.predict(test_features)\n",
    "\n",
    "    accuracy = accuracy_score(test_labels, predictions)\n",
    "    precision, recall, fscore, _ = precision_recall_fscore_support(\n",
    "        test_labels, predictions, average=\"macro\"\n",
    "    )\n",
    "\n",
    "    print(f\"Accuracy:  {accuracy:.3f}\")\n",
    "    print(f\"Precision: {precision:.3f}\")\n",
    "    print(f\"Recall:    {recall:.3f}\")\n",
    "    print(f\"F-score:   {fscore:.3f}\")\n",
    "    print()\n",
    "    print(f\"Mislabeled points: {(predictions != test_labels).sum()}/{test_features.shape[0]}\")"
   ]
  }
 ],
 "metadata": {
  "kernelspec": {
   "display_name": "labenv",
   "language": "python",
   "name": "python3"
  },
  "language_info": {
   "codemirror_mode": {
    "name": "ipython",
    "version": 3
   },
   "file_extension": ".py",
   "mimetype": "text/x-python",
   "name": "python",
   "nbconvert_exporter": "python",
   "pygments_lexer": "ipython3",
   "version": "3.13.1"
  }
 },
 "nbformat": 4,
 "nbformat_minor": 2
}
